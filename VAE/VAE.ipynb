{
 "cells": [
  {
   "cell_type": "markdown",
   "id": "da62758b",
   "metadata": {},
   "source": [
    "# Import packages"
   ]
  },
  {
   "cell_type": "code",
   "execution_count": 1,
   "id": "23a061f7",
   "metadata": {},
   "outputs": [],
   "source": [
    "import matplotlib.pyplot as plt\n",
    "import numpy as np\n",
    "import tensorflow as tf\n",
    "import keras\n",
    "import os, sys\n",
    "import random\n",
    "from datetime import datetime\n",
    "\n",
    "from sklearn.model_selection import train_test_split\n",
    "from tensorflow import keras\n",
    "from tensorflow.keras import Model\n",
    "from tensorflow.keras.layers import Conv1D, Flatten, Dense, Reshape, Conv1DTranspose, BatchNormalization, Layer\n",
    "\n",
    "sys.path.insert(1, str(os.path.abspath(os.path.join(os.getcwd(), os.pardir))) + \"\\\\Timestamp2Vec\\\\\")\n",
    "from helper_functions import *\n",
    "\n",
    "SEED = 123\n",
    "random.seed(SEED)\n",
    "\n",
    "SAVE_MIN_MAX_VAL = False"
   ]
  },
  {
   "cell_type": "markdown",
   "id": "7f786499",
   "metadata": {},
   "source": [
    "# Data preparation"
   ]
  },
  {
   "cell_type": "code",
   "execution_count": 2,
   "id": "89faff2a",
   "metadata": {},
   "outputs": [],
   "source": [
    "data_location = os.path.join(os.path.join(os.path.join(os.environ['USERPROFILE']), 'Desktop'), 'data_thesis')\n",
    "data = np.load(data_location + \"/vectorized_dates.npy\", allow_pickle=True)"
   ]
  },
  {
   "cell_type": "code",
   "execution_count": 20,
   "metadata": {},
   "outputs": [],
   "source": [
    "x = data[:,3]"
   ]
  },
  {
   "cell_type": "code",
   "execution_count": null,
   "id": "a222e985",
   "metadata": {},
   "outputs": [],
   "source": [
    "# transform the Booleans to int\n",
    "data = np.asarray(data, dtype=\"float64\")\n",
    "np.shape(data)"
   ]
  },
  {
   "cell_type": "markdown",
   "id": "b767005b",
   "metadata": {},
   "source": [
    "### Train and Test set"
   ]
  },
  {
   "cell_type": "code",
   "execution_count": null,
   "id": "30d88cf6",
   "metadata": {},
   "outputs": [],
   "source": [
    "# create train and test split, using SEED\n",
    "train_data, test_data, _, _ = train_test_split(\n",
    "    data, data, test_size=0.2, random_state=SEED\n",
    ")\n",
    "print(train_data.shape)\n",
    "print(test_data.shape)"
   ]
  },
  {
   "cell_type": "code",
   "execution_count": null,
   "id": "c6f25331",
   "metadata": {},
   "outputs": [],
   "source": [
    "# free up space\n",
    "del data"
   ]
  },
  {
   "cell_type": "code",
   "execution_count": null,
   "id": "909e0202",
   "metadata": {},
   "outputs": [],
   "source": [
    "if SAVE_MIN_MAX_VAL:\n",
    "    # normalize data to [0, 1]\n",
    "    # obtain the min and max value\n",
    "    min_val = np.amin(train_data, axis=0)\n",
    "    max_val = np.amax(train_data, axis=0)\n",
    "\n",
    "    data_folder_check  = os.path.isdir(str(os.path.abspath(os.path.join(os.getcwd(), os.pardir))) + \"\\Data\")\n",
    "    if not data_folder_check:\n",
    "        os.makedirs(str(os.path.abspath(os.path.join(os.getcwd(), os.pardir))) + \"\\Data\")\n",
    "        print('Created Data folder as it was not present')\n",
    "\n",
    "    variable_folder_check = os.path.isdir(str(os.path.abspath(os.path.join(os.getcwd(), os.pardir))) + \"\\Data\\important_variables\")\n",
    "    if not variable_folder_check:\n",
    "        os.makedirs(str(os.path.abspath(os.path.join(os.getcwd(), os.pardir))) + \"\\Data\\important_variables\")\n",
    "        print('Created important_variables folder as it was not present')\n",
    "\n",
    "    np.save(str(os.path.abspath(os.path.join(os.getcwd(), os.pardir))) + \"\\Data\\important_variables\\min_val.npy\", min_val)\n",
    "    np.save(str(os.path.abspath(os.path.join(os.getcwd(), os.pardir))) + \"\\Data\\important_variables\\max_val.npy\", max_val)"
   ]
  },
  {
   "cell_type": "code",
   "execution_count": null,
   "id": "a8233de6",
   "metadata": {},
   "outputs": [],
   "source": [
    "# normalize the train and test data\n",
    "train_data = normalize(train_data)\n",
    "test_data = normalize(test_data)\n",
    "\n",
    "# store tensors on CPU to save enough space on GPU\n",
    "with tf. device(\"cpu:0\"):\n",
    "    train_data = tf.cast(train_data, tf.float32)\n",
    "    test_data = tf.cast(test_data, tf.float32)"
   ]
  },
  {
   "cell_type": "markdown",
   "id": "499657bd",
   "metadata": {},
   "source": [
    "# Variational Autoencoder model"
   ]
  },
  {
   "cell_type": "markdown",
   "id": "c3eb067d",
   "metadata": {},
   "source": [
    "### Model parameters"
   ]
  },
  {
   "cell_type": "code",
   "execution_count": null,
   "id": "00902a06",
   "metadata": {},
   "outputs": [],
   "source": [
    "LATENT_DIM = 8\n",
    "X_SHAPE = train_data.shape[1]\n",
    "EPOCHS = 25\n",
    "BATCH_SIZE = 256\n",
    "\n",
    "TRAIN = True\n",
    "\n",
    "LOAD_ENCODER = False\n",
    "LOAD_DECODER = False\n",
    "\n",
    "SAVE_LATENT_VAR = False\n",
    "SAVE_ENCODER_DECODER = True\n",
    "\n",
    "NAME_ENC = \"encoder_VAE1\"\n",
    "NAME_DEC = \"decoder_VAE1\"\n",
    "\n",
    "ENCODER_LOCATION = \"Models/Encoder/\" + NAME_ENC\n",
    "DECODER_LOCATION = \"Models/Decoder/\" + NAME_DEC\n",
    "\n",
    "initializer = tf.keras.initializers.GlorotUniform(seed=SEED)"
   ]
  },
  {
   "cell_type": "code",
   "execution_count": null,
   "id": "022c3431",
   "metadata": {},
   "outputs": [],
   "source": [
    "if SAVE_LATENT_VAR:    \n",
    "    # sys.path.insert(1, str(os.path.abspath(os.path.join(os.getcwd(), os.pardir))))\n",
    "    data_folder_check  = os.path.isdir(str(os.path.abspath(os.path.join(os.getcwd(), os.pardir))) + \"\\Data\")\n",
    "    if not data_folder_check:\n",
    "        os.makedirs(str(os.path.abspath(os.path.join(os.getcwd(), os.pardir))) + \"\\Data\")\n",
    "        print('Created Data folder as it was not present')\n",
    "\n",
    "    variable_folder_check = os.path.isdir(str(os.path.abspath(os.path.join(os.getcwd(), os.pardir))) + \"\\Data\\important_variables\")\n",
    "    if not variable_folder_check:\n",
    "        os.makedirs(str(os.path.abspath(os.path.join(os.getcwd(), os.pardir))) + \"\\Data\\important_variables\")\n",
    "        print('Created important_variables folder as it was not present')\n",
    "\n",
    "    with open(str(os.path.abspath(os.path.join(os.getcwd(), os.pardir))) + \"\\Data\\important_variables\" + 'latent_dim.txt', 'w') as f:\n",
    "        f.write('%d' % LATENT_DIM)"
   ]
  },
  {
   "cell_type": "markdown",
   "id": "313e3427",
   "metadata": {},
   "source": [
    "### Sampling layer"
   ]
  },
  {
   "cell_type": "code",
   "execution_count": null,
   "id": "a25bd726",
   "metadata": {},
   "outputs": [],
   "source": [
    "class Sampling(Layer):\n",
    "    # Sampling layer of the VAE, creation of the latent variable z\n",
    "    # The sampling layer uses as distribution a normal distribution\n",
    "\n",
    "    def call(self, inputs):\n",
    "        # obtain the mean and the logvar's of each dimension\n",
    "        z_mean, z_log_var = inputs\n",
    "        # get the batchsize\n",
    "        batch = tf.shape(z_mean)[0]\n",
    "        # get the dimension of the data\n",
    "        dim = tf.shape(z_mean)[1]\n",
    "        # sample random values from the normal distribution\n",
    "        epsilon = tf.keras.backend.random_normal(shape =(batch, dim))\n",
    "        # perform the sample step\n",
    "        return z_mean + tf.exp(0.5 * z_log_var) * epsilon"
   ]
  },
  {
   "cell_type": "markdown",
   "id": "55c382d1",
   "metadata": {},
   "source": [
    "### Encoder network"
   ]
  },
  {
   "cell_type": "code",
   "execution_count": null,
   "id": "16d70e60",
   "metadata": {},
   "outputs": [],
   "source": [
    "if LOAD_ENCODER:\n",
    "    encoder = keras.models.load_model(ENCODER_LOCATION)\n",
    "else:\n",
    "    # define the input of the encoder\n",
    "    input_encoder = keras.Input(shape = (X_SHAPE,))\n",
    "\n",
    "    # define the layers of the model\n",
    "    x = Reshape((X_SHAPE, 1))(input_encoder)\n",
    "    x = Conv1D(filters=16, kernel_size=3, padding=\"same\", activation=\"elu\", kernel_initializer = initializer)(x)\n",
    "    x = BatchNormalization()(x)\n",
    "    x = Conv1D(filters=8, kernel_size=2, padding=\"valid\", activation=\"elu\", kernel_initializer = initializer)(x)\n",
    "    x = BatchNormalization()(x)\n",
    "    x = Flatten()(x)\n",
    "    x = Dense(30, activation=\"tanh\", kernel_initializer = initializer)(x)\n",
    "\n",
    "    # obtain the mean and variance to sample from\n",
    "    z_mean = Dense(LATENT_DIM, name =\"z_mean\", kernel_initializer = initializer)(x)\n",
    "    z_log_var = Dense(LATENT_DIM, name =\"z_log_var\", kernel_initializer = initializer)(x)\n",
    "\n",
    "    # sample, using the z_mean and z_log_var\n",
    "    z = Sampling()([z_mean, z_log_var])\n",
    "\n",
    "    # define the encoder model\n",
    "    encoder = Model(input_encoder, [z_mean, z_log_var, z], name =\"encoder\")\n",
    "encoder.summary()"
   ]
  },
  {
   "cell_type": "markdown",
   "id": "46fda6b7",
   "metadata": {},
   "source": [
    "### Decoder network"
   ]
  },
  {
   "cell_type": "code",
   "execution_count": null,
   "id": "9556a426",
   "metadata": {},
   "outputs": [],
   "source": [
    "if LOAD_DECODER:\n",
    "    decoder = keras.models.load_model(DECODER_LOCATION)\n",
    "else:\n",
    "    # define the input of the decoder\n",
    "    input_decoder = keras.Input(shape = (LATENT_DIM,))\n",
    "\n",
    "    # define the layers of the model\n",
    "    x = Dense(20 * 8, activation=\"elu\", kernel_initializer = initializer)(input_decoder)\n",
    "    x = Reshape((20, 8))(x)\n",
    "    x = Conv1DTranspose(8, 2, padding=\"valid\", activation=\"elu\", kernel_initializer = initializer)(x)\n",
    "    x = BatchNormalization()(x)\n",
    "    x = Conv1DTranspose(16, 3, padding=\"same\", activation=\"elu\", kernel_initializer = initializer)(x)\n",
    "    x = BatchNormalization()(x)\n",
    "    x = Conv1DTranspose(1, 1, activation=\"elu\", kernel_initializer = initializer)(x)\n",
    "    x = Flatten()(x)\n",
    "    x = Dense(X_SHAPE, activation=\"sigmoid\", kernel_initializer = initializer)(x)\n",
    "    decoder_output = Reshape((X_SHAPE,))(x)\n",
    "    # define the decoder model\n",
    "    decoder = Model(input_decoder, decoder_output, name =\"decoder\")\n",
    "decoder.summary()"
   ]
  },
  {
   "cell_type": "markdown",
   "id": "6b1b32c8",
   "metadata": {},
   "source": [
    "### VAE"
   ]
  },
  {
   "cell_type": "markdown",
   "id": "f0d30b9f",
   "metadata": {},
   "source": [
    "#### VAE Class"
   ]
  },
  {
   "cell_type": "code",
   "execution_count": null,
   "id": "7dc957ee",
   "metadata": {},
   "outputs": [],
   "source": [
    "class VariationalAutoEncoder(Model):\n",
    "  def __init__(self, encoder, decoder, X_SHAPE):\n",
    "    super(VariationalAutoEncoder, self).__init__()\n",
    "    self.encoder = encoder\n",
    "    self.decoder = decoder\n",
    "    self.X_shape = X_SHAPE\n",
    "\n",
    "    \n",
    "  def train_step(self, x):\n",
    "    if isinstance(x, tuple):\n",
    "            x = x[0]\n",
    "    with tf.GradientTape() as tape:\n",
    "      # map to latent space and obtain z_mean, z_log_var, z\n",
    "      z_mean, z_log_var, z = self.encoder(x)\n",
    "      # decode z to obtain the reconstruction\n",
    "      decoded = self.decoder(z)\n",
    "      # obtain the reconstruction loss\n",
    "      reconstruction_loss = tf.reduce_mean(\n",
    "              keras.losses.mean_squared_error(x, decoded)\n",
    "            )\n",
    "      reconstruction_loss *= X_SHAPE\n",
    "      # obtain the kl_loss\n",
    "      kl_loss = -0.5 * (1 + z_log_var - tf.square(z_mean) - tf.exp(z_log_var))\n",
    "      kl_loss = tf.reduce_mean(kl_loss)\n",
    "      total_loss = reconstruction_loss + kl_loss\n",
    "    grads = tape.gradient(total_loss, self.trainable_weights)\n",
    "    self.optimizer.apply_gradients(zip(grads, self.trainable_weights))\n",
    "    return {\n",
    "      \"loss\": total_loss,\n",
    "      \"reconstruction_loss\": reconstruction_loss,\n",
    "      \"kl_loss\": kl_loss,\n",
    "      }\n",
    "\n",
    "\n",
    "  def test_step(self, x):\n",
    "    if isinstance(x, tuple):\n",
    "            x = x[0]\n",
    "    # map to latent space and obtain z_mean, z_log_var, z\n",
    "    z_mean, z_log_var, z = self.encoder(x)\n",
    "    # decode z to obtain the reconstruction\n",
    "    decoded = self.decoder(z)\n",
    "    # obtain the reconstruction loss\n",
    "    reconstruction_loss = tf.reduce_mean(\n",
    "            keras.losses.mean_squared_error(x, decoded)\n",
    "          )\n",
    "    reconstruction_loss *= X_SHAPE\n",
    "    # obtain the kl_loss\n",
    "    kl_loss = -0.5 * (1 + z_log_var - tf.square(z_mean) - tf.exp(z_log_var))\n",
    "    kl_loss = tf.reduce_mean(kl_loss)\n",
    "    total_loss = reconstruction_loss + kl_loss\n",
    "    return {\n",
    "      \"loss\": total_loss,\n",
    "      \"reconstruction_loss\": reconstruction_loss,\n",
    "      \"kl_loss\": kl_loss,\n",
    "      }"
   ]
  },
  {
   "cell_type": "code",
   "execution_count": null,
   "id": "e7ef2946",
   "metadata": {},
   "outputs": [],
   "source": [
    "# Initialize the VAE\n",
    "variational_autoencoder = VariationalAutoEncoder(encoder, decoder, X_SHAPE)"
   ]
  },
  {
   "cell_type": "markdown",
   "id": "641e1554",
   "metadata": {},
   "source": [
    "#### Training"
   ]
  },
  {
   "cell_type": "code",
   "execution_count": null,
   "id": "4bd8844e",
   "metadata": {},
   "outputs": [],
   "source": [
    "def train(variational_autoencoder):\n",
    "        callback = tf.keras.callbacks.EarlyStopping(monitor='val_loss', patience=5, mode = 'min', restore_best_weights=True)\n",
    "        history = variational_autoencoder.fit(train_data, train_data, \n",
    "                epochs=EPOCHS, \n",
    "                batch_size=BATCH_SIZE,\n",
    "                validation_data=(test_data, test_data),\n",
    "                shuffle=True,\n",
    "                verbose=1,\n",
    "                callbacks=[callback])\n",
    "        return history"
   ]
  },
  {
   "cell_type": "code",
   "execution_count": null,
   "id": "35fd5865",
   "metadata": {},
   "outputs": [],
   "source": [
    "if TRAIN:\n",
    "    variational_autoencoder.compile(optimizer=\"adam\")\n",
    "    history = train(variational_autoencoder)\n",
    "    # Plot the train and val loss\n",
    "    plt.plot(history.history[\"loss\"], label=\"Training Loss\")\n",
    "    plt.plot(history.history[\"val_loss\"], label=\"Validation Loss\")\n",
    "    plt.legend()"
   ]
  },
  {
   "cell_type": "code",
   "execution_count": null,
   "id": "14aeaf30",
   "metadata": {},
   "outputs": [],
   "source": [
    "if SAVE_ENCODER_DECODER:\n",
    "    #Check if Models folder exists, if not create\n",
    "    models_folder_check  = os.path.isdir('Models')\n",
    "    encoder_folder_check  = os.path.isdir(\"Models/Encoder\")\n",
    "    decoder_folder_check  = os.path.isdir(\"Models/Decoder\")\n",
    "    if not models_folder_check:\n",
    "        os.makedirs('Models')\n",
    "        print('Created Models folder as it was not present')\n",
    "    if not encoder_folder_check:\n",
    "        os.makedirs(ENCODER_LOCATION)\n",
    "        print('Created Models/Encoder folder as it was not present')\n",
    "    if not decoder_folder_check:\n",
    "        os.makedirs(DECODER_LOCATION)\n",
    "        print('Created Models/Decoder folder as it was not present')\n",
    "    date = datetime.now().strftime(\"%Y%m%d%H%M%S\")\n",
    "    #Store the encoder in the Encoder folder\n",
    "    variational_autoencoder.encoder.save(\"Models/Encoder\" + \"/{}\".format(date))\n",
    "    print(\"Saved encoder\")\n",
    "    #Store the encoder in the Decoder folder\n",
    "    variational_autoencoder.decoder.save(\"Models/Decoder\" + \"/{}\".format(date))\n",
    "    print(\"Saved decoder\")"
   ]
  }
 ],
 "metadata": {
  "interpreter": {
   "hash": "d5f809e317b75bf44c1fc96d1cd9e1131b9cde9a3e6db8a0d8be4378aec00bbc"
  },
  "kernelspec": {
   "display_name": "Python 3.10.4 ('thesis')",
   "language": "python",
   "name": "python3"
  },
  "language_info": {
   "codemirror_mode": {
    "name": "ipython",
    "version": 3
   },
   "file_extension": ".py",
   "mimetype": "text/x-python",
   "name": "python",
   "nbconvert_exporter": "python",
   "pygments_lexer": "ipython3",
   "version": "3.10.4"
  }
 },
 "nbformat": 4,
 "nbformat_minor": 5
}
