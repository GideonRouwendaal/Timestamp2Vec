{
 "cells": [
  {
   "cell_type": "markdown",
   "metadata": {},
   "source": [
    "# Evluating the embeddings\n",
    "Loading of the data, adding the features to <italics>original_features<italics> and the training of the model is done using this link: https://towardsdatascience.com/machine-learning-with-datetime-feature-engineering-predicting-healthcare-appointment-no-shows-5e4ca3a85f96"
   ]
  },
  {
   "cell_type": "code",
   "execution_count": 1,
   "metadata": {},
   "outputs": [
    {
     "data": {
      "text/plain": [
       "<Figure size 432x288 with 0 Axes>"
      ]
     },
     "metadata": {},
     "output_type": "display_data"
    }
   ],
   "source": [
    "# import libraries\n",
    "import pandas as pd\n",
    "import numpy as np\n",
    "import matplotlib.pyplot as plt\n",
    "import os\n",
    "\n",
    "from Timestamp2Vec_Model.helper_functions import *\n",
    "from Timestamp2Vec_Model.Timestamp2Vec import *\n",
    "\n",
    "SEED = 123"
   ]
  },
  {
   "cell_type": "markdown",
   "metadata": {},
   "source": [
    "## Data preparation"
   ]
  },
  {
   "cell_type": "markdown",
   "metadata": {},
   "source": [
    "### Loading the data\n",
    "Loading the Medical Appointment No Shows Data Set, from this link https://www.kaggle.com/datasets/joniarroba/noshowappointments"
   ]
  },
  {
   "cell_type": "markdown",
   "metadata": {},
   "source": [
    "### Creating features for timestamps vectorized by Timestamp2Vec"
   ]
  },
  {
   "cell_type": "code",
   "execution_count": 2,
   "metadata": {},
   "outputs": [],
   "source": [
    "data_location = os.path.join(os.path.join(os.path.join(os.environ['USERPROFILE']), 'Desktop'), 'data_thesis')\n",
    "\n",
    "# load the data\n",
    "df = pd.read_csv(data_location + \"/KaggleV2-May-2016.csv\")"
   ]
  },
  {
   "cell_type": "code",
   "execution_count": 3,
   "metadata": {},
   "outputs": [
    {
     "name": "stdout",
     "output_type": "stream",
     "text": [
      "WARNING:tensorflow:No training configuration found in save file, so the model was *not* compiled. Compile it manually.\n"
     ]
    }
   ],
   "source": [
    "timestamp2vec = Timestamp2Vec()"
   ]
  },
  {
   "cell_type": "code",
   "execution_count": 4,
   "metadata": {},
   "outputs": [],
   "source": [
    "scheduled_day_vector = timestamp2vec(df[\"ScheduledDay\"])\n",
    "apppointment_day_vector = timestamp2vec(df[\"AppointmentDay\"])\n",
    "diff_day = apppointment_day_vector - scheduled_day_vector"
   ]
  },
  {
   "cell_type": "code",
   "execution_count": 5,
   "metadata": {},
   "outputs": [],
   "source": [
    "for i in range(scheduled_day_vector.shape[-1]):\n",
    "    df[\"latent_var\" + str(i + 1) + \"_scheduled\"] = scheduled_day_vector[:, i]\n",
    "    df[\"latent_var\" + str(i + 1) + \"_appointment\"] = apppointment_day_vector[:, i]\n",
    "    df[\"latent_var\" + str(i + 1) + \"_delta\"] = diff_day[:, i]"
   ]
  },
  {
   "cell_type": "markdown",
   "metadata": {},
   "source": [
    "### Extracting features according to the link"
   ]
  },
  {
   "cell_type": "code",
   "execution_count": 6,
   "metadata": {},
   "outputs": [],
   "source": [
    "df[\"OUTPUT_LABEL\"] = (df[\"No-show\"] == (\"Yes\")).astype(int)\n",
    "\n",
    "df[\"ScheduledDay\"] = pd.to_datetime(df[\"ScheduledDay\"], format = \"%Y-%m-%dT%H:%M:%SZ\", errors = \"coerce\")\n",
    "df[\"AppointmentDay\"] = pd.to_datetime(df[\"AppointmentDay\"],  format = \"%Y-%m-%dT%H:%M:%SZ\", errors = \"coerce\")\n",
    "df[\"AppointmentDay\"] = df[\"AppointmentDay\"] +pd.Timedelta(\"1d\") - pd.Timedelta(\"1s\")"
   ]
  },
  {
   "cell_type": "code",
   "execution_count": 7,
   "metadata": {},
   "outputs": [
    {
     "name": "stderr",
     "output_type": "stream",
     "text": [
      "C:\\Users\\gideo\\AppData\\Local\\Temp\\ipykernel_50220\\2303329548.py:3: FutureWarning: Series.dt.weekofyear and Series.dt.week have been deprecated. Please use Series.dt.isocalendar().week instead.\n",
      "  df[\"ScheduledDay_week\"] = df[\"ScheduledDay\"].dt.week\n",
      "C:\\Users\\gideo\\AppData\\Local\\Temp\\ipykernel_50220\\2303329548.py:10: FutureWarning: Series.dt.weekofyear and Series.dt.week have been deprecated. Please use Series.dt.isocalendar().week instead.\n",
      "  df[\"AppointmentDay_week\"] = df[\"AppointmentDay\"].dt.week\n"
     ]
    }
   ],
   "source": [
    "df[\"ScheduledDay_year\"] = df[\"ScheduledDay\"].dt.year\n",
    "df[\"ScheduledDay_month\"] = df[\"ScheduledDay\"].dt.month\n",
    "df[\"ScheduledDay_week\"] = df[\"ScheduledDay\"].dt.week\n",
    "df[\"ScheduledDay_day\"] = df[\"ScheduledDay\"].dt.day\n",
    "df[\"ScheduledDay_hour\"] = df[\"ScheduledDay\"].dt.hour\n",
    "df[\"ScheduledDay_minute\"] = df[\"ScheduledDay\"].dt.minute\n",
    "df[\"ScheduledDay_dayofweek\"] = df[\"ScheduledDay\"].dt.dayofweek\n",
    "df[\"AppointmentDay_year\"] = df[\"AppointmentDay\"].dt.year\n",
    "df[\"AppointmentDay_month\"] = df[\"AppointmentDay\"].dt.month\n",
    "df[\"AppointmentDay_week\"] = df[\"AppointmentDay\"].dt.week\n",
    "df[\"AppointmentDay_day\"] = df[\"AppointmentDay\"].dt.day\n",
    "df[\"AppointmentDay_hour\"] = df[\"AppointmentDay\"].dt.hour\n",
    "df[\"AppointmentDay_minute\"] = df[\"AppointmentDay\"].dt.minute\n",
    "df[\"AppointmentDay_dayofweek\"] = df[\"AppointmentDay\"].dt.dayofweek"
   ]
  },
  {
   "cell_type": "code",
   "execution_count": 8,
   "metadata": {},
   "outputs": [],
   "source": [
    "df[\"delta_days\"] = (df[\"AppointmentDay\"]-df[\"ScheduledDay\"]).dt.total_seconds()/(60*60*24)"
   ]
  },
  {
   "cell_type": "markdown",
   "metadata": {},
   "source": [
    "### Splitting in train and test"
   ]
  },
  {
   "cell_type": "code",
   "execution_count": 9,
   "metadata": {},
   "outputs": [],
   "source": [
    "# shuffle the samples\n",
    "df = df.sample(n = len(df), random_state = 42)\n",
    "df = df.reset_index(drop = True)\n",
    "df_valid = df.sample(frac = 0.3, random_state = 42)\n",
    "df_train = df.drop(df_valid.index)"
   ]
  },
  {
   "cell_type": "code",
   "execution_count": 10,
   "metadata": {},
   "outputs": [],
   "source": [
    "col2use_normal = [\"ScheduledDay_day\", \"ScheduledDay_hour\", \"ScheduledDay_minute\", \"ScheduledDay_dayofweek\", \"AppointmentDay_day\", \"AppointmentDay_dayofweek\", \"delta_days\"]\n",
    "# col2use_only_embed = [\"delta_days\"]\n",
    "col2use_only_embed = []\n",
    "col2use_normal_embed = [\"ScheduledDay_day\", \"ScheduledDay_hour\", \"ScheduledDay_minute\", \"ScheduledDay_dayofweek\", \"AppointmentDay_day\", \"AppointmentDay_dayofweek\", \"delta_days\"]\n",
    "\n",
    "for i in range(apppointment_day_vector.shape[-1]):\n",
    "    col2use_only_embed.append(\"latent_var\" + str(i + 1) + \"_scheduled\")\n",
    "    col2use_normal_embed.append(\"latent_var\" + str(i + 1) + \"_scheduled\")\n",
    "    col2use_only_embed.append(\"latent_var\" + str(i + 1) + \"_appointment\")\n",
    "    col2use_normal_embed.append(\"latent_var\" + str(i + 1) + \"_appointment\")\n",
    "    col2use_only_embed.append(\"latent_var\" + str(i + 1) + \"_delta\")\n",
    "    col2use_normal_embed.append(\"latent_var\" + str(i + 1) + \"_delta\")"
   ]
  },
  {
   "cell_type": "code",
   "execution_count": 11,
   "metadata": {},
   "outputs": [],
   "source": [
    "X_train_normal = df_train[col2use_normal].values\n",
    "X_valid_normal = df_valid[col2use_normal].values\n",
    "\n",
    "X_train_only_embed = df_train[col2use_only_embed].values\n",
    "X_valid_only_embed = df_valid[col2use_only_embed].values\n",
    "\n",
    "X_train_normal_embed = df_train[col2use_normal_embed].values\n",
    "X_valid_normal_embed = df_valid[col2use_normal_embed].values\n",
    "\n",
    "y_train = df_train[\"OUTPUT_LABEL\"].values\n",
    "y_valid = df_valid[\"OUTPUT_LABEL\"].values"
   ]
  },
  {
   "cell_type": "code",
   "execution_count": 12,
   "metadata": {},
   "outputs": [
    {
     "data": {
      "text/plain": [
       "(33158, 7)"
      ]
     },
     "execution_count": 12,
     "metadata": {},
     "output_type": "execute_result"
    }
   ],
   "source": [
    "X_valid_normal.shape"
   ]
  },
  {
   "cell_type": "markdown",
   "metadata": {},
   "source": [
    "## Model"
   ]
  },
  {
   "cell_type": "markdown",
   "metadata": {},
   "source": [
    "### Model creation and training"
   ]
  },
  {
   "cell_type": "code",
   "execution_count": 13,
   "metadata": {},
   "outputs": [
    {
     "data": {
      "text/plain": [
       "RandomForestClassifier(max_depth=5, random_state=42)"
      ]
     },
     "execution_count": 13,
     "metadata": {},
     "output_type": "execute_result"
    }
   ],
   "source": [
    "from sklearn.ensemble import RandomForestClassifier\n",
    "\n",
    "# creation\n",
    "rf_normal = RandomForestClassifier(max_depth = 5, n_estimators=100, random_state = 42)\n",
    "rf_only_embed = RandomForestClassifier(max_depth = 5, n_estimators=100, random_state = 42)\n",
    "rf_normal_embed = RandomForestClassifier(max_depth = 5, n_estimators=100, random_state = 42)\n",
    "\n",
    "# training\n",
    "rf_normal.fit(X_train_normal, y_train)\n",
    "rf_only_embed.fit(X_train_only_embed, y_train)\n",
    "rf_normal_embed.fit(X_train_normal_embed, y_train)"
   ]
  },
  {
   "cell_type": "markdown",
   "metadata": {},
   "source": [
    "### Prediction"
   ]
  },
  {
   "cell_type": "code",
   "execution_count": 14,
   "metadata": {},
   "outputs": [],
   "source": [
    "y_normal_train_preds = rf_normal.predict_proba(X_train_normal)[:,1]\n",
    "y_normal_valid_preds = rf_normal.predict_proba(X_valid_normal)[:,1]\n",
    "\n",
    "y_only_embed_train_preds = rf_only_embed.predict_proba(X_train_only_embed)[:,1]\n",
    "y_only_embed_valid_preds = rf_only_embed.predict_proba(X_valid_only_embed)[:,1]\n",
    "\n",
    "y_normal_embed_train_preds = rf_normal_embed.predict_proba(X_train_normal_embed)[:,1]\n",
    "y_normal_embed_valid_preds = rf_normal_embed.predict_proba(X_valid_normal_embed)[:,1]"
   ]
  },
  {
   "cell_type": "markdown",
   "metadata": {},
   "source": [
    "## Evaluation"
   ]
  },
  {
   "cell_type": "markdown",
   "metadata": {},
   "source": [
    "### Metrics"
   ]
  },
  {
   "cell_type": "code",
   "execution_count": 15,
   "metadata": {},
   "outputs": [],
   "source": [
    "from sklearn.metrics import roc_auc_score, accuracy_score, precision_score, recall_score\n",
    "def calc_specificity(y_actual, y_pred, thresh=0.201):\n",
    "    # calculates specificity\n",
    "    return sum((y_pred < thresh) & (y_actual == 0)) /sum(y_actual ==0)\n",
    "\n",
    "def calc_prevalence(y):\n",
    "    return (sum(y)/len(y))\n",
    "\n",
    "def print_report(y_actual, y_pred, thresh=0.201):\n",
    "    auc = roc_auc_score(y_actual, y_pred)\n",
    "    accuracy = accuracy_score(y_actual, (y_pred > thresh))\n",
    "    recall = recall_score(y_actual, (y_pred > thresh))\n",
    "    precision = precision_score(y_actual, (y_pred > thresh))\n",
    "    specificity = calc_specificity(y_actual, y_pred, thresh)\n",
    "    f1 = 2 * (precision * recall) / (precision + recall)\n",
    "    print(\"AUC:%.3f\"%auc)\n",
    "    print(\"accuracy:%.3f\"%accuracy)\n",
    "    print(\"precision:%.3f\"%precision)\n",
    "    print(\"recall:%.3f\"%recall)\n",
    "    print(\"f1_score:%.3f\"%f1)\n",
    "    print(\"specificity:%.3f\"%specificity)\n",
    "    print(\"prevalence:%.3f\"%calc_prevalence(y_actual))\n",
    "    print(\" \")\n",
    "    return auc, accuracy, recall, precision, specificity"
   ]
  },
  {
   "cell_type": "code",
   "execution_count": 16,
   "metadata": {},
   "outputs": [
    {
     "name": "stdout",
     "output_type": "stream",
     "text": [
      "Random Forest Normal\n",
      "Validation:\n",
      "AUC:0.708\n",
      "accuracy:0.515\n",
      "precision:0.284\n",
      "recall:0.915\n",
      "f1_score:0.433\n",
      "specificity:0.414\n",
      "prevalence:0.203\n",
      " \n",
      "\n",
      "Random Forest Only Embeddings\n",
      "Validation:\n",
      "AUC:0.702\n",
      "accuracy:0.586\n",
      "precision:0.299\n",
      "recall:0.776\n",
      "f1_score:0.432\n",
      "specificity:0.538\n",
      "prevalence:0.203\n",
      " \n",
      "\n",
      "Random Forest Normal and Embeddings\n",
      "Validation:\n",
      "AUC:0.705\n",
      "accuracy:0.535\n",
      "precision:0.288\n",
      "recall:0.883\n",
      "f1_score:0.435\n",
      "specificity:0.446\n",
      "prevalence:0.203\n",
      " \n",
      "\n"
     ]
    }
   ],
   "source": [
    "print(\"Random Forest Normal\")\n",
    "# print(\"Training:\")\n",
    "# print_report(y_train, y_normal_train_preds)\n",
    "print(\"Validation:\")\n",
    "print_report(y_valid, y_normal_valid_preds)\n",
    "print(\"\")\n",
    "\n",
    "print(\"Random Forest Only Embeddings\")\n",
    "# print(\"Training:\")\n",
    "# print_report(y_train, y_only_embed_train_preds)\n",
    "print(\"Validation:\")\n",
    "print_report(y_valid, y_only_embed_valid_preds)\n",
    "print(\"\")\n",
    "\n",
    "print(\"Random Forest Normal and Embeddings\")\n",
    "# print(\"Training:\")\n",
    "# print_report(y_train, y_normal_embed_train_preds)\n",
    "print(\"Validation:\")\n",
    "print_report(y_valid, y_normal_embed_valid_preds)\n",
    "print(\"\")"
   ]
  },
  {
   "cell_type": "markdown",
   "metadata": {},
   "source": [
    "### Feature importance"
   ]
  },
  {
   "cell_type": "code",
   "execution_count": 17,
   "metadata": {},
   "outputs": [],
   "source": [
    "from matplotlib.lines import Line2D\n",
    "cmap = plt.cm.bwr"
   ]
  },
  {
   "cell_type": "code",
   "execution_count": 18,
   "metadata": {},
   "outputs": [
    {
     "data": {
      "image/png": "[encoded data removed]",
      "text/plain": [
       "<Figure size 480x480 with 1 Axes>"
      ]
     },
     "metadata": {},
     "output_type": "display_data"
    }
   ],
   "source": [
    "feature_importances = pd.DataFrame(rf_normal.feature_importances_,\n",
    "index = col2use_normal,\n",
    "columns=[\"importance\"]).sort_values(\"importance\",\n",
    "ascending=False)\n",
    "num = min([50,len(col2use_normal)])\n",
    "ylocs = np.arange(num)\n",
    "# get the feature importance for top num and sort in reverse order\n",
    "values_to_plot = feature_importances.iloc[:num].values.ravel()[::-1]\n",
    "feature_labels = list(feature_importances.iloc[:num].index)[::-1]\n",
    "plt.figure(num=None, figsize=(6, 6), dpi=80, facecolor=\"w\", edgecolor=\"k\")\n",
    "plt.barh(ylocs, values_to_plot, align = \"center\", color=cmap(0.))\n",
    "plt.ylabel(\"Features\")\n",
    "plt.xlabel(\"Importance Score\")\n",
    "# plt.title(\"Feature Importance Score — Random Forest - Normal\")\n",
    "plt.yticks(ylocs, feature_labels)\n",
    "plt.show()"
   ]
  },
  {
   "cell_type": "code",
   "execution_count": 19,
   "metadata": {},
   "outputs": [
    {
     "data": {
      "image/png": "[encoded data removed]",
      "text/plain": [
       "<Figure size 480x480 with 1 Axes>"
      ]
     },
     "metadata": {},
     "output_type": "display_data"
    }
   ],
   "source": [
    "feature_importances = pd.DataFrame(rf_only_embed.feature_importances_,\n",
    "index = col2use_only_embed,\n",
    "columns=[\"importance\"]).sort_values(\"importance\",\n",
    "ascending=False)\n",
    "\n",
    "feature_importances = feature_importances[:10]\n",
    "\n",
    "num = min([50,len(feature_importances)])\n",
    "ylocs = np.arange(num)\n",
    "# get the feature importance for top num and sort in reverse order\n",
    "values_to_plot = feature_importances.iloc[:num].values.ravel()[::-1]\n",
    "feature_labels = list(feature_importances.iloc[:num].index)[::-1]\n",
    "plt.figure(num=None, figsize=(6, 6), dpi=80, facecolor=\"w\", edgecolor=\"k\")\n",
    "plt.barh(ylocs, values_to_plot, align = \"center\", color=cmap(1.))\n",
    "plt.ylabel(\"Features\")\n",
    "plt.xlabel(\"Importance Score\")\n",
    "# plt.title(\"Feature Importance Score — Random Forest - Only Embeddings\")\n",
    "plt.yticks(ylocs, feature_labels)\n",
    "plt.show()"
   ]
  },
  {
   "cell_type": "code",
   "execution_count": 20,
   "metadata": {},
   "outputs": [
    {
     "data": {
      "image/png": "[encoded data removed]",
      "text/plain": [
       "<Figure size 480x480 with 1 Axes>"
      ]
     },
     "metadata": {},
     "output_type": "display_data"
    }
   ],
   "source": [
    "feature_importances = pd.DataFrame(rf_normal_embed.feature_importances_,\n",
    "index = col2use_normal_embed,\n",
    "columns=[\"importance\"]).sort_values(\"importance\",\n",
    "ascending=False)\n",
    "\n",
    "feature_importances = feature_importances[:10]\n",
    "\n",
    "num = min([50,len(feature_importances)])\n",
    "ylocs = np.arange(num)\n",
    "# get the feature importance for top num and sort in reverse order\n",
    "values_to_plot = feature_importances.iloc[:num].values.ravel()[::-1]\n",
    "feature_labels = list(feature_importances.iloc[:num].index)[::-1]\n",
    "custom_lines = [Line2D([0], [0], color=cmap(0.), lw=4),\n",
    "                Line2D([0], [0], color=cmap(1.), lw=4)]\n",
    "\n",
    "c = []\n",
    "for label in feature_labels:\n",
    "    if \"latent\" in label:\n",
    "        c.append(cmap(1.))\n",
    "    else:\n",
    "        c.append(cmap(0.))\n",
    "\n",
    "plt.figure(num=None, figsize=(6, 6), dpi=80, facecolor=\"w\", edgecolor=\"k\")\n",
    "plt.barh(ylocs, values_to_plot, align = \"center\", color=c)\n",
    "plt.ylabel(\"Features\")\n",
    "plt.xlabel(\"Importance Score\")\n",
    "# plt.title(\"Feature Importance Score — Random Forest - Normal and Embeddings\")\n",
    "plt.yticks(ylocs, feature_labels)\n",
    "plt.legend(custom_lines, ['Long\\'s Features', 'Vectorized Features'])\n",
    "plt.show()"
   ]
  }
 ],
 "metadata": {
  "interpreter": {
   "hash": "d5f809e317b75bf44c1fc96d1cd9e1131b9cde9a3e6db8a0d8be4378aec00bbc"
  },
  "kernelspec": {
   "display_name": "Python 3.10.4 ('thesis')",
   "language": "python",
   "name": "python3"
  },
  "language_info": {
   "codemirror_mode": {
    "name": "ipython",
    "version": 3
   },
   "file_extension": ".py",
   "mimetype": "text/x-python",
   "name": "python",
   "nbconvert_exporter": "python",
   "pygments_lexer": "ipython3",
   "version": "3.10.4"
  },
  "orig_nbformat": 4
 },
 "nbformat": 4,
 "nbformat_minor": 2
}
